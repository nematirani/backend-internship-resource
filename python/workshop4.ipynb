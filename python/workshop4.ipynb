{
 "cells": [
  {
   "cell_type": "code",
   "execution_count": 67,
   "id": "4cb0b344",
   "metadata": {},
   "outputs": [
    {
     "name": "stdout",
     "output_type": "stream",
     "text": [
      "Student hello\n"
     ]
    }
   ],
   "source": [
    "import abc\n",
    "\n",
    "PERSON_GENDER_MALE = 'male'\n",
    "PERSON_GENDER_FEMALE = 'female'\n",
    "\n",
    "class Person(metaclass=abc.ABCMeta):\n",
    "\n",
    "    @property\n",
    "    def gender(self):\n",
    "        return self._gender\n",
    "\n",
    "    @gender.setter\n",
    "    def gender(self, value):\n",
    "        if value not in [PERSON_GENDER_MALE, PERSON_GENDER_FEMALE]:\n",
    "            raise ValueError('Gender is not valid')\n",
    "        self._gender = value\n",
    "\n",
    "    def __init__(self, gender='male'):\n",
    "        self.gender = gender\n",
    "\n",
    "    def talk(self):\n",
    "        raise NotImplementedError\n",
    "    \n",
    "    @abc.abstractmethod\n",
    "    def walk(self):\n",
    "        pass\n",
    "    \n",
    "\n",
    "class Student(Person):\n",
    "\n",
    "    def __init__(self):\n",
    "        super().__init__()\n",
    "        self.type = 'student'\n",
    "\n",
    "    def talk(self):\n",
    "        return 'Student talk'\n",
    "    \n",
    "    def walk(self):\n",
    "        return 'Student walk'\n",
    "\n",
    "    @staticmethod\n",
    "    def show():\n",
    "        return 'Student Class'\n",
    "\n",
    "    @classmethod\n",
    "    def say_hello(cls):\n",
    "        return cls.show()\n",
    "\n",
    "    @classmethod\n",
    "    def say_hello_student(cls):\n",
    "        return f'{cls.__name__} hello'.capitalize()\n",
    "\n",
    "\n",
    "class Engineer(Person):\n",
    "    default = 'Engineer'\n",
    "\n",
    "    def __init__(self):\n",
    "        super().__init__()\n",
    "        self.type = 'IT engineer'\n",
    "\n",
    "\n",
    "s = Student()\n",
    "print(s.say_hello_student())\n",
    "\n",
    "# print(Student.show())\n",
    "# print(Student.say_hello())\n",
    "\n",
    "# s = Student()\n",
    "# print(s.gender)\n",
    "\n",
    "# s.gender = 'harchi'\n",
    "# print(s.gender)\n",
    "\n"
   ]
  },
  {
   "cell_type": "code",
   "execution_count": 24,
   "id": "d20d1371",
   "metadata": {},
   "outputs": [
    {
     "name": "stdout",
     "output_type": "stream",
     "text": [
      "SortedIntList([-9, -1, 0, 1, 3, 4, 9])\n"
     ]
    }
   ],
   "source": [
    "class SimpleList:\n",
    "    def __init__(self, items):\n",
    "        self._items = items\n",
    "    \n",
    "    def add(self, item):\n",
    "        self._items.append(item)\n",
    "\n",
    "    def sort(self):\n",
    "        return self._items.sort()\n",
    "\n",
    "    # def __iter__(self):\n",
    "    #     return iter(self._items)\n",
    "\n",
    "    def __getitem__(self, index):\n",
    "        return self._items[index]\n",
    "\n",
    "    def __len__(self):\n",
    "        return len(self._items)\n",
    "\n",
    "    def __str__(self):\n",
    "        return '{}'.format(self._items)\n",
    "    \n",
    "    def __repr__(self):\n",
    "        return 'SimpleList({!r})'.format(self._items)\n",
    "\n",
    "\n",
    "class SortedList(SimpleList):\n",
    "    def __init__(self, items):\n",
    "        super(SortedList, self).__init__(items)\n",
    "        self.sort()\n",
    "\n",
    "    def add(self, item):\n",
    "        super().add(item)\n",
    "        self.sort()\n",
    "\n",
    "    def __repr__(self):\n",
    "        return 'SortedList({!r})'.format(self._items)\n",
    "\n",
    "\n",
    "class IntList(SimpleList):\n",
    "    def __init__(self, items):\n",
    "        [self._validate(item) for item in items]\n",
    "        super(IntList, self).__init__(items)\n",
    "\n",
    "    def add(self, item):\n",
    "        self._validate(item)\n",
    "        super().add(item)\n",
    "\n",
    "    @staticmethod\n",
    "    def _validate(item):\n",
    "        if not isinstance(item, int):\n",
    "            raise TypeError('Intlist only support integer values')\n",
    "\n",
    "    def __repr__(self):\n",
    "        return 'IntList({!r})'.format(self._items)\n",
    "\n",
    "\n",
    "class SortedIntList(IntList, SortedList):\n",
    "    def __repr__(self):\n",
    "        return 'SortedIntList({!r})'.format(self._items)\n",
    "\n",
    "\n",
    "sorted_int_list = SortedIntList([9, -1, 3, 0, 1, 4])\n",
    "sorted_int_list.add(-9)\n",
    "\n",
    "print(repr(sorted_int_list))"
   ]
  },
  {
   "cell_type": "code",
   "execution_count": 39,
   "id": "8033210c",
   "metadata": {},
   "outputs": [
    {
     "data": {
      "text/plain": [
       "' Delete duplicate names function '"
      ]
     },
     "execution_count": 39,
     "metadata": {},
     "output_type": "execute_result"
    }
   ],
   "source": [
    "from functools import wraps\n",
    "\n",
    "def is_valid(f):\n",
    "    @wraps(f)\n",
    "    def decorator(*args, **kwargs):\n",
    "        return f(*args, **kwargs)\n",
    "    return decorator\n",
    "\n",
    "\n",
    "def is_string_list(f):\n",
    "    @wraps(f)\n",
    "    def inner(*args, **kwargs):\n",
    "        collections = args[0]\n",
    "        if not all(map(lambda x: isinstance(x, str), collections)):\n",
    "            raise TypeError('Collection must be list of strings')\n",
    "        return f(*args, **kwargs)\n",
    "    return inner\n",
    "\n",
    "\n",
    "@is_valid\n",
    "@is_string_list\n",
    "def delete_duplicate_names(collections: list) -> list:\n",
    "    \"\"\" Delete duplicate names function \"\"\"\n",
    "    return list(set(collections))\n",
    "\n",
    "\n",
    "delete_duplicate_names.__doc__"
   ]
  },
  {
   "cell_type": "code",
   "execution_count": 47,
   "id": "a573bf94",
   "metadata": {},
   "outputs": [
    {
     "name": "stdout",
     "output_type": "stream",
     "text": [
      "1\n",
      "ali\n",
      "None\n"
     ]
    }
   ],
   "source": [
    "for i in 1, 'ali', None:\n",
    "    print(i)"
   ]
  },
  {
   "cell_type": "code",
   "execution_count": 49,
   "id": "131ab247",
   "metadata": {},
   "outputs": [
    {
     "name": "stdout",
     "output_type": "stream",
     "text": [
      "Ali\n",
      "Nemat\n",
      "Meysam\n"
     ]
    }
   ],
   "source": [
    "for name in 'Ali', 'Nemat', 'Meysam':\n",
    "    print(name)"
   ]
  },
  {
   "cell_type": "code",
   "execution_count": 50,
   "id": "9a6f3db8",
   "metadata": {},
   "outputs": [
    {
     "name": "stdout",
     "output_type": "stream",
     "text": [
      "False\n"
     ]
    }
   ],
   "source": [
    "result = True if [] else False\n",
    "print(result)"
   ]
  },
  {
   "cell_type": "code",
   "execution_count": 51,
   "id": "1f19e41d",
   "metadata": {},
   "outputs": [
    {
     "name": "stdout",
     "output_type": "stream",
     "text": [
      "False\n"
     ]
    }
   ],
   "source": [
    "result = False\n",
    "if []:\n",
    "    result = True\n",
    "print(result)"
   ]
  },
  {
   "cell_type": "code",
   "execution_count": 52,
   "id": "1d8a24db",
   "metadata": {},
   "outputs": [
    {
     "name": "stdout",
     "output_type": "stream",
     "text": [
      "False\n"
     ]
    }
   ],
   "source": [
    "if []:\n",
    "    result = True\n",
    "else:\n",
    "    result = False\n",
    "print(result)"
   ]
  },
  {
   "cell_type": "code",
   "execution_count": 53,
   "id": "028174b2",
   "metadata": {},
   "outputs": [
    {
     "name": "stdout",
     "output_type": "stream",
     "text": [
      "True\n"
     ]
    }
   ],
   "source": [
    "a = 'Ali'\n",
    "\n",
    "result = (\n",
    "    True if isinstance(a, int) else (\n",
    "        True if isinstance(a, list) else (\n",
    "            True if isinstance(a, str) else False\n",
    "        )\n",
    "    )\n",
    ")\n",
    "\n",
    "print(result)"
   ]
  },
  {
   "cell_type": "code",
   "execution_count": 54,
   "id": "56f4223e",
   "metadata": {},
   "outputs": [
    {
     "data": {
      "text/plain": [
       "True"
      ]
     },
     "execution_count": 54,
     "metadata": {},
     "output_type": "execute_result"
    }
   ],
   "source": [
    "True if 1 in [1, 2, 3] else False"
   ]
  },
  {
   "cell_type": "code",
   "execution_count": 55,
   "id": "d62f087d",
   "metadata": {},
   "outputs": [
    {
     "data": {
      "text/plain": [
       "True"
      ]
     },
     "execution_count": 55,
     "metadata": {},
     "output_type": "execute_result"
    }
   ],
   "source": [
    "True if 1 in (1, 2, 3) else False"
   ]
  },
  {
   "cell_type": "code",
   "execution_count": 56,
   "id": "b7761a9d",
   "metadata": {},
   "outputs": [
    {
     "data": {
      "text/plain": [
       "True"
      ]
     },
     "execution_count": 56,
     "metadata": {},
     "output_type": "execute_result"
    }
   ],
   "source": [
    "True if 1 in {1, 2, 3} else False"
   ]
  },
  {
   "cell_type": "code",
   "execution_count": 57,
   "id": "0cf15348",
   "metadata": {},
   "outputs": [
    {
     "ename": "SyntaxError",
     "evalue": "invalid syntax (3293855260.py, line 1)",
     "output_type": "error",
     "traceback": [
      "\u001b[0;36m  File \u001b[0;32m\"/tmp/ipykernel_5373/3293855260.py\"\u001b[0;36m, line \u001b[0;32m1\u001b[0m\n\u001b[0;31m    True if 1 in 1, 2, 3 else False\u001b[0m\n\u001b[0m                  ^\u001b[0m\n\u001b[0;31mSyntaxError\u001b[0m\u001b[0;31m:\u001b[0m invalid syntax\n"
     ]
    }
   ],
   "source": [
    "True if 1 in 1, 2, 3 else False"
   ]
  },
  {
   "cell_type": "code",
   "execution_count": 59,
   "id": "4b036ffe",
   "metadata": {},
   "outputs": [
    {
     "name": "stdout",
     "output_type": "stream",
     "text": [
      "ali 19\n"
     ]
    }
   ],
   "source": [
    "def print_me(name, age):\n",
    "    print(name, age)\n",
    "\n",
    "\n",
    "def say_hello():\n",
    "    name = 'ali'\n",
    "    age = 19\n",
    "    print_me(**locals())\n",
    "\n",
    "say_hello()"
   ]
  },
  {
   "cell_type": "code",
   "execution_count": 60,
   "id": "25cbb6b3",
   "metadata": {},
   "outputs": [
    {
     "name": "stdout",
     "output_type": "stream",
     "text": [
      "nemat\n"
     ]
    }
   ],
   "source": [
    "name = 'nemat'\n",
    "\n",
    "print('%s' % name)"
   ]
  },
  {
   "cell_type": "code",
   "execution_count": 62,
   "id": "5c373169",
   "metadata": {},
   "outputs": [
    {
     "name": "stdout",
     "output_type": "stream",
     "text": [
      "nemat\n"
     ]
    }
   ],
   "source": [
    "name = 'nemat'\n",
    "\n",
    "print('{}'.format(name))"
   ]
  },
  {
   "cell_type": "code",
   "execution_count": 63,
   "id": "592d9be4",
   "metadata": {},
   "outputs": [
    {
     "name": "stdout",
     "output_type": "stream",
     "text": [
      "ali\n"
     ]
    }
   ],
   "source": [
    "name = 'ali'\n",
    "\n",
    "print(f'{name}')"
   ]
  },
  {
   "cell_type": "code",
   "execution_count": 64,
   "id": "bf9688bc",
   "metadata": {},
   "outputs": [
    {
     "name": "stdout",
     "output_type": "stream",
     "text": [
      "nemat\n"
     ]
    }
   ],
   "source": [
    "name = 'nemat'\n",
    "\n",
    "print('{0}'.format(name))"
   ]
  },
  {
   "cell_type": "code",
   "execution_count": 66,
   "id": "a84eb664",
   "metadata": {},
   "outputs": [
    {
     "name": "stdout",
     "output_type": "stream",
     "text": [
      "nemat\n"
     ]
    }
   ],
   "source": [
    "my_name = 'nemat'\n",
    "\n",
    "print('{name}'.format(name=my_name))"
   ]
  },
  {
   "cell_type": "code",
   "execution_count": null,
   "id": "2059dc6d",
   "metadata": {},
   "outputs": [],
   "source": []
  }
 ],
 "metadata": {
  "kernelspec": {
   "display_name": "Python 3 (ipykernel)",
   "language": "python",
   "name": "python3"
  },
  "language_info": {
   "codemirror_mode": {
    "name": "ipython",
    "version": 3
   },
   "file_extension": ".py",
   "mimetype": "text/x-python",
   "name": "python",
   "nbconvert_exporter": "python",
   "pygments_lexer": "ipython3",
   "version": "3.9.5"
  }
 },
 "nbformat": 4,
 "nbformat_minor": 5
}
